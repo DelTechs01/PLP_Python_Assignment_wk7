{
 "cells": [
  {
   "cell_type": "code",
   "execution_count": 24,
   "id": "249d6174-442d-4514-a242-f3368276d967",
   "metadata": {},
   "outputs": [
    {
     "name": "stdout",
     "output_type": "stream",
     "text": [
      "Dataset loaded Succesfully.\n"
     ]
    }
   ],
   "source": [
    "import pandas as pd\n",
    "try:\n",
    "    df = pd.read_csv(\"iris.data\")\n",
    "    print(\"Dataset loaded Succesfully.\")\n",
    "except FileNotFoundError:\n",
    "    print(\"Error: The file was not found.\")"
   ]
  },
  {
   "cell_type": "code",
   "execution_count": 25,
   "id": "1392fe2e-c6e8-4144-9fe2-a8d0af2a8f65",
   "metadata": {},
   "outputs": [
    {
     "name": "stdout",
     "output_type": "stream",
     "text": [
      "   5.1  3.5  1.4  0.2  Iris-setosa\n",
      "0  4.9  3.0  1.4  0.2  Iris-setosa\n",
      "1  4.7  3.2  1.3  0.2  Iris-setosa\n",
      "2  4.6  3.1  1.5  0.2  Iris-setosa\n",
      "3  5.0  3.6  1.4  0.2  Iris-setosa\n",
      "4  5.4  3.9  1.7  0.4  Iris-setosa\n"
     ]
    }
   ],
   "source": [
    "print(df.head())"
   ]
  },
  {
   "cell_type": "code",
   "execution_count": 20,
   "id": "50cce835-8538-49f1-ad54-0f4c20bf7edc",
   "metadata": {},
   "outputs": [
    {
     "name": "stdout",
     "output_type": "stream",
     "text": [
      "<class 'pandas.core.frame.DataFrame'>\n",
      "RangeIndex: 149 entries, 0 to 148\n",
      "Data columns (total 5 columns):\n",
      " #   Column       Non-Null Count  Dtype  \n",
      "---  ------       --------------  -----  \n",
      " 0   5.1          149 non-null    float64\n",
      " 1   3.5          149 non-null    float64\n",
      " 2   1.4          149 non-null    float64\n",
      " 3   0.2          149 non-null    float64\n",
      " 4   Iris-setosa  149 non-null    object \n",
      "dtypes: float64(4), object(1)\n",
      "memory usage: 5.9+ KB\n",
      "None\n",
      "5.1            0\n",
      "3.5            0\n",
      "1.4            0\n",
      "0.2            0\n",
      "Iris-setosa    0\n",
      "dtype: int64\n"
     ]
    }
   ],
   "source": [
    "print(df.info())\n",
    "print(df.isnull().sum())"
   ]
  },
  {
   "cell_type": "code",
   "execution_count": 21,
   "id": "5ce184e1-7ef0-4329-a3a5-ffe0a465e090",
   "metadata": {},
   "outputs": [],
   "source": [
    "df = df.dropna()\n",
    "df = df.fillna(method = 'ffill')"
   ]
  },
  {
   "cell_type": "code",
   "execution_count": 28,
   "id": "0419c1f9-23ee-48ce-83c3-ce403ad48abf",
   "metadata": {},
   "outputs": [
    {
     "name": "stdout",
     "output_type": "stream",
     "text": [
      "              5.1         3.5         1.4         0.2\n",
      "count  149.000000  149.000000  149.000000  149.000000\n",
      "mean     5.848322    3.051007    3.774497    1.205369\n",
      "std      0.828594    0.433499    1.759651    0.761292\n",
      "min      4.300000    2.000000    1.000000    0.100000\n",
      "25%      5.100000    2.800000    1.600000    0.300000\n",
      "50%      5.800000    3.000000    4.400000    1.300000\n",
      "75%      6.400000    3.300000    5.100000    1.800000\n",
      "max      7.900000    4.400000    6.900000    2.500000\n"
     ]
    }
   ],
   "source": [
    "print(df.describe())"
   ]
  },
  {
   "cell_type": "code",
   "execution_count": null,
   "id": "3dfa4adb-73f2-4a98-9182-89a53a974636",
   "metadata": {},
   "outputs": [],
   "source": [
    "#These plots a line chat\n",
    "import numpy as np\n",
    "import matplotlib.pyplot as plt\n",
    "df['date'] = pd.date_range(start='2022-01-01', periods=len(df), freq='D')\n",
    "# Group by month to calculate average sepal length\n",
    "df['month'] = df['date'].dt.to_period('M')\n",
    "monthly_avg = df.groupby('month')['sepal length (cm)'].mean()\n",
    "plt.figure(figsize=(8, 5))\n",
    "monthly_avg.plot(kind='line', marker='o')\n",
    "plt.title('Average Sepal Length Over Time')\n",
    "plt.xlabel('Month')\n",
    "plt.ylabel('Avg Sepal Length (cm)')\n",
    "plt.grid(True)\n",
    "plt.xticks(rotation=45)\n",
    "plt.tight_layout()\n",
    "plt.show()"
   ]
  },
  {
   "cell_type": "code",
   "execution_count": null,
   "id": "86d50c6a",
   "metadata": {},
   "outputs": [],
   "source": [
    "# These plots a bar chart\n",
    "# Import necessary libraries\n",
    "import numpy as np\n",
    "import matplotlib.pyplot as plt\n",
    "\n",
    "# Simulate monthly data from the iris dataset\n",
    "df['date'] = pd.date_range(start='2022-01-01', periods=len(df), freq='D')\n",
    "\n",
    "# Group by month to calculate average sepal length\n",
    "df['month'] = df['date'].dt.to_period('M')\n",
    "# Group by month to calculate average sepal length\n",
    "monthly_avg = df.groupby('month')['sepal length (cm)'].mean()\n",
    "plt.figure(figsize=(8, 5))\n",
    "monthly_avg.plot(kind='bar', color='skyblue')\n",
    "# Set the title and labels\n",
    "plt.title('Average Sepal Length Over Time')\n",
    "plt.xlabel('Month')\n",
    "plt.ylabel('Avg Sepal Length (cm)')\n",
    "plt.xticks(rotation=45)\n",
    "plt.tight_layout()\n",
    "plt.show()"
   ]
  },
  {
   "cell_type": "code",
   "execution_count": null,
   "id": "cbfbc1c3",
   "metadata": {},
   "outputs": [],
   "source": [
    "# Histogram of Sepal Length\n",
    "plt.figure(figsize=(7, 5))\n",
    "# Plot histogram of sepal length\n",
    "plt.hist(df['sepal width (cm)'], bins=15, color='skyblue', edgecolor='black')\n",
    "# Set the title and labels\n",
    "plt.title(\"Distribution of Sepal Width\")\n",
    "plt.xlabel(\"Sepal Width (cm)\")\n",
    "plt.ylabel(\"Frequency\")\n",
    "plt.grid(True)\n",
    "plt.tight_layout()\n",
    "plt.show()"
   ]
  },
  {
   "cell_type": "code",
   "execution_count": null,
   "id": "15cef19f",
   "metadata": {},
   "outputs": [],
   "source": [
    "# Scatter plot with different colors for each species\n",
    "import matplotlib.pyplot as plt\n",
    "# Import the iris dataset\n",
    "from sklearn.datasets import load_iris\n",
    "import pandas as pd\n",
    "iris = load_iris()\n",
    "# Create a DataFrame from the iris dataset\n",
    "df = pd.DataFrame(iris.data, columns=iris.feature_names)\n",
    "# Add the target variable (species) to the DataFrame\n",
    "df['species'] = pd.Categorical.from_codes(iris.target, iris.target_names)\n",
    "# Define colors for each species\n",
    "colors = {'setosa': 'red', 'versicolor': 'blue', 'virginica': 'green'}\n",
    "# Create a scatter plot\n",
    "plt.figure(figsize=(8, 6))\n",
    "# Plot sepal length vs petal length with different colors for each species\n",
    "for species in df['species'].unique():\n",
    "    subset = df[df['species'] == species]\n",
    "    plt.scatter(subset['sepal length (cm)'], subset['petal length (cm)'],\n",
    "                label=species, color=colors[species])\n",
    "# Set the title and labels\n",
    "plt.title(\"Sepal Length vs Petal Length\")\n",
    "plt.xlabel(\"Sepal Length (cm)\")\n",
    "plt.ylabel(\"Petal Length (cm)\")\n",
    "plt.legend(title='Species')\n",
    "plt.grid(True)\n",
    "plt.tight_layout()\n",
    "plt.show()"
   ]
  }
 ],
 "metadata": {
  "kernelspec": {
   "display_name": "Python 3",
   "language": "python",
   "name": "python3"
  },
  "language_info": {
   "codemirror_mode": {
    "name": "ipython",
    "version": 3
   },
   "file_extension": ".py",
   "mimetype": "text/x-python",
   "name": "python",
   "nbconvert_exporter": "python",
   "pygments_lexer": "ipython3",
   "version": "3.13.2"
  }
 },
 "nbformat": 4,
 "nbformat_minor": 5
}
